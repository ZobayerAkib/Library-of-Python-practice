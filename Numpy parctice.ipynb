{
 "cells": [
  {
   "cell_type": "code",
   "execution_count": 7,
   "id": "d0a30f3e",
   "metadata": {},
   "outputs": [],
   "source": [
    "import numpy as np"
   ]
  },
  {
   "cell_type": "code",
   "execution_count": 8,
   "id": "eece9837",
   "metadata": {},
   "outputs": [],
   "source": [
    "v=np.array([[1,2,3],[4,5,6],[7,8,9]])"
   ]
  },
  {
   "cell_type": "code",
   "execution_count": 9,
   "id": "98bf5e81",
   "metadata": {},
   "outputs": [
    {
     "name": "stdout",
     "output_type": "stream",
     "text": [
      "[[1 2 3]\n",
      " [4 5 6]\n",
      " [7 8 9]]\n"
     ]
    }
   ],
   "source": [
    "print(v)"
   ]
  },
  {
   "cell_type": "code",
   "execution_count": 9,
   "id": "81fb3dce",
   "metadata": {},
   "outputs": [
    {
     "name": "stdout",
     "output_type": "stream",
     "text": [
      "[[1 4 7]\n",
      " [2 5 8]\n",
      " [3 6 9]]\n"
     ]
    }
   ],
   "source": [
    "print(v. T)"
   ]
  },
  {
   "cell_type": "code",
   "execution_count": 10,
   "id": "25e03e68",
   "metadata": {},
   "outputs": [],
   "source": [
    "a = np.random.random((3, 3))"
   ]
  },
  {
   "cell_type": "code",
   "execution_count": 11,
   "id": "e1546b04",
   "metadata": {},
   "outputs": [],
   "source": [
    "b=np.random.random((3, 3))"
   ]
  },
  {
   "cell_type": "code",
   "execution_count": 12,
   "id": "0b75ced4",
   "metadata": {},
   "outputs": [
    {
     "data": {
      "text/plain": [
       "array([[0.86991302, 0.63835396, 0.13094245],\n",
       "       [0.2920102 , 0.66558307, 0.40906417],\n",
       "       [0.12475139, 0.3547874 , 0.02193378]])"
      ]
     },
     "execution_count": 12,
     "metadata": {},
     "output_type": "execute_result"
    }
   ],
   "source": [
    "a"
   ]
  },
  {
   "cell_type": "code",
   "execution_count": 13,
   "id": "0f798d13",
   "metadata": {},
   "outputs": [
    {
     "data": {
      "text/plain": [
       "array([[0.76977612, 0.80519642, 0.88721877],\n",
       "       [0.81852933, 0.82695551, 0.04369131],\n",
       "       [0.38141945, 0.14936773, 0.91962917]])"
      ]
     },
     "execution_count": 13,
     "metadata": {},
     "output_type": "execute_result"
    }
   ],
   "source": [
    "b"
   ]
  },
  {
   "cell_type": "code",
   "execution_count": 14,
   "id": "85cafd9f",
   "metadata": {},
   "outputs": [
    {
     "name": "stdout",
     "output_type": "stream",
     "text": [
      "[[ 14  32  50]\n",
      " [ 32  77 122]\n",
      " [ 50 122 194]]\n"
     ]
    }
   ],
   "source": [
    "print(v @ (v. T))"
   ]
  },
  {
   "cell_type": "code",
   "execution_count": 16,
   "id": "1488ac1a",
   "metadata": {},
   "outputs": [],
   "source": [
    "a=np.array([[1,2,3],[2,3,4],[5,5,6],[5,6,7]])"
   ]
  },
  {
   "cell_type": "code",
   "execution_count": 17,
   "id": "0bbc48b7",
   "metadata": {},
   "outputs": [
    {
     "data": {
      "text/plain": [
       "array([[1, 2, 3],\n",
       "       [2, 3, 4],\n",
       "       [5, 5, 6],\n",
       "       [5, 6, 7]])"
      ]
     },
     "execution_count": 17,
     "metadata": {},
     "output_type": "execute_result"
    }
   ],
   "source": [
    "a"
   ]
  },
  {
   "cell_type": "code",
   "execution_count": 21,
   "id": "940b765e",
   "metadata": {},
   "outputs": [
    {
     "data": {
      "text/plain": [
       "(4, 3)"
      ]
     },
     "execution_count": 21,
     "metadata": {},
     "output_type": "execute_result"
    }
   ],
   "source": [
    "a.shape"
   ]
  },
  {
   "cell_type": "code",
   "execution_count": 22,
   "id": "3742d59d",
   "metadata": {},
   "outputs": [
    {
     "name": "stdout",
     "output_type": "stream",
     "text": [
      "(4, 3)\n"
     ]
    }
   ],
   "source": [
    "print(a.shape)"
   ]
  },
  {
   "cell_type": "code",
   "execution_count": 25,
   "id": "0c81433c",
   "metadata": {},
   "outputs": [
    {
     "name": "stdout",
     "output_type": "stream",
     "text": [
      "[[0. 0. 0.]\n",
      " [0. 0. 0.]]\n"
     ]
    }
   ],
   "source": [
    "print(np.zeros((2,3)))"
   ]
  },
  {
   "cell_type": "code",
   "execution_count": 26,
   "id": "1e42b81d",
   "metadata": {},
   "outputs": [],
   "source": [
    "A=np.zeros((3,3))"
   ]
  },
  {
   "cell_type": "code",
   "execution_count": 27,
   "id": "f08efede",
   "metadata": {},
   "outputs": [
    {
     "data": {
      "text/plain": [
       "array([[0., 0., 0.],\n",
       "       [0., 0., 0.],\n",
       "       [0., 0., 0.]])"
      ]
     },
     "execution_count": 27,
     "metadata": {},
     "output_type": "execute_result"
    }
   ],
   "source": [
    "A"
   ]
  },
  {
   "cell_type": "code",
   "execution_count": 28,
   "id": "19447a72",
   "metadata": {},
   "outputs": [
    {
     "data": {
      "text/plain": [
       "(3, 3)"
      ]
     },
     "execution_count": 28,
     "metadata": {},
     "output_type": "execute_result"
    }
   ],
   "source": [
    "A.shape"
   ]
  },
  {
   "cell_type": "code",
   "execution_count": 29,
   "id": "b4d8eb7b",
   "metadata": {},
   "outputs": [],
   "source": [
    "A[0][1]=5"
   ]
  },
  {
   "cell_type": "code",
   "execution_count": 30,
   "id": "d95a5de7",
   "metadata": {},
   "outputs": [
    {
     "data": {
      "text/plain": [
       "array([[0., 5., 0.],\n",
       "       [0., 0., 0.],\n",
       "       [0., 0., 0.]])"
      ]
     },
     "execution_count": 30,
     "metadata": {},
     "output_type": "execute_result"
    }
   ],
   "source": [
    "A"
   ]
  },
  {
   "cell_type": "code",
   "execution_count": 31,
   "id": "de8a5652",
   "metadata": {},
   "outputs": [],
   "source": [
    "b=np.ones((2,2))"
   ]
  },
  {
   "cell_type": "code",
   "execution_count": 32,
   "id": "6c5684a4",
   "metadata": {},
   "outputs": [
    {
     "data": {
      "text/plain": [
       "array([[1., 1.],\n",
       "       [1., 1.]])"
      ]
     },
     "execution_count": 32,
     "metadata": {},
     "output_type": "execute_result"
    }
   ],
   "source": [
    "b"
   ]
  },
  {
   "cell_type": "code",
   "execution_count": 33,
   "id": "1a348d9d",
   "metadata": {},
   "outputs": [],
   "source": [
    "x=b.T"
   ]
  },
  {
   "cell_type": "code",
   "execution_count": 34,
   "id": "62da45e3",
   "metadata": {},
   "outputs": [
    {
     "data": {
      "text/plain": [
       "array([[1., 1.],\n",
       "       [1., 1.]])"
      ]
     },
     "execution_count": 34,
     "metadata": {},
     "output_type": "execute_result"
    }
   ],
   "source": [
    "x"
   ]
  },
  {
   "cell_type": "code",
   "execution_count": 35,
   "id": "0419728e",
   "metadata": {},
   "outputs": [
    {
     "data": {
      "text/plain": [
       "array([[0., 0., 0.],\n",
       "       [5., 0., 0.],\n",
       "       [0., 0., 0.]])"
      ]
     },
     "execution_count": 35,
     "metadata": {},
     "output_type": "execute_result"
    }
   ],
   "source": [
    "A.T"
   ]
  },
  {
   "cell_type": "code",
   "execution_count": 38,
   "id": "5bf7c786",
   "metadata": {},
   "outputs": [],
   "source": [
    "I=np.eye((2)) #identity matrix er jnno parameter ekta!!!!!!!!!!!!!"
   ]
  },
  {
   "cell_type": "code",
   "execution_count": 39,
   "id": "6114b769",
   "metadata": {},
   "outputs": [
    {
     "data": {
      "text/plain": [
       "array([[1., 0.],\n",
       "       [0., 1.]])"
      ]
     },
     "execution_count": 39,
     "metadata": {},
     "output_type": "execute_result"
    }
   ],
   "source": [
    "I"
   ]
  },
  {
   "cell_type": "code",
   "execution_count": 40,
   "id": "9574d301",
   "metadata": {},
   "outputs": [
    {
     "data": {
      "text/plain": [
       "array([[10, 10],\n",
       "       [10, 10]])"
      ]
     },
     "execution_count": 40,
     "metadata": {},
     "output_type": "execute_result"
    }
   ],
   "source": [
    "np.full((2,2),10)\n"
   ]
  },
  {
   "cell_type": "code",
   "execution_count": 53,
   "id": "4a856964",
   "metadata": {},
   "outputs": [
    {
     "name": "stdout",
     "output_type": "stream",
     "text": [
      "Random Value\n",
      " [[0.43437624 0.8511136  0.47918363 0.47854928 0.49389306]\n",
      " [0.96694627 0.70394469 0.0543043  0.18395369 0.83156075]\n",
      " [0.97675288 0.26882526 0.59930586 0.05044969 0.86051623]\n",
      " [0.2765139  0.48025168 0.0969135  0.4432185  0.24968189]\n",
      " [0.98248465 0.35013048 0.25364578 0.95727149 0.30329623]]\n",
      "--------------------------------#---------------------------------------------------\n",
      "Eliment-wise multiplication \n",
      " [[4.34376239 8.51113598 4.79183629 4.78549284 4.93893064]\n",
      " [9.66946267 7.03944691 0.54304297 1.83953691 8.31560752]\n",
      " [9.76752879 2.68825258 5.99305861 0.50449693 8.60516228]\n",
      " [2.765139   4.80251678 0.96913504 4.43218498 2.49681894]\n",
      " [9.82484654 3.50130483 2.53645782 9.57271489 3.03296229]]\n",
      "Another way to elimentwise Multiply \n",
      " [[4.34376239 8.51113598 4.79183629 4.78549284 4.93893064]\n",
      " [9.66946267 7.03944691 0.54304297 1.83953691 8.31560752]\n",
      " [9.76752879 2.68825258 5.99305861 0.50449693 8.60516228]\n",
      " [2.765139   4.80251678 0.96913504 4.43218498 2.49681894]\n",
      " [9.82484654 3.50130483 2.53645782 9.57271489 3.03296229]]\n"
     ]
    }
   ],
   "source": [
    "R=np.random.random((5,5))\n",
    "print(\"Random Value\\n\", R)\n",
    "print(\"--------------------------------#---------------------------------------------------\")\n",
    "A=10\n",
    "EM=A * R\n",
    "print(\"Eliment-wise multiplication \\n\",EM)\n",
    "EM=np.multiply(A,R)\n",
    "print(\"Another way to elimentwise Multiply \\n\",EM)"
   ]
  },
  {
   "cell_type": "code",
   "execution_count": null,
   "id": "c0d9ba2b",
   "metadata": {},
   "outputs": [],
   "source": []
  }
 ],
 "metadata": {
  "kernelspec": {
   "display_name": "Python 3 (ipykernel)",
   "language": "python",
   "name": "python3"
  },
  "language_info": {
   "codemirror_mode": {
    "name": "ipython",
    "version": 3
   },
   "file_extension": ".py",
   "mimetype": "text/x-python",
   "name": "python",
   "nbconvert_exporter": "python",
   "pygments_lexer": "ipython3",
   "version": "3.9.12"
  }
 },
 "nbformat": 4,
 "nbformat_minor": 5
}
